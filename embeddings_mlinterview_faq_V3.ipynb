{
 "cells": [
  {
   "cell_type": "code",
   "execution_count": 54,
   "metadata": {},
   "outputs": [],
   "source": [
    "import os\n",
    "\n",
    "import pandas as pd\n",
    "import numpy as np"
   ]
  },
  {
   "cell_type": "code",
   "execution_count": 55,
   "metadata": {},
   "outputs": [
    {
     "name": "stdout",
     "output_type": "stream",
     "text": [
      "Before chdir: F:\\Q&A\\QuestionAnswering\n",
      "After chdir: F:\\Q&A\\QuestionAnswering\n"
     ]
    }
   ],
   "source": [
    "# change working directory\n",
    "\n",
    "print('Before chdir:', os.getcwd())\n",
    "\n",
    "os.chdir('F:\\\\Q&A\\\\QuestionAnswering') \n",
    "         \n",
    "print('After chdir:', os.getcwd())\n",
    "\n",
    "# os.listdir()"
   ]
  },
  {
   "cell_type": "code",
   "execution_count": 56,
   "metadata": {},
   "outputs": [
    {
     "data": {
      "text/html": [
       "<div>\n",
       "<style scoped>\n",
       "    .dataframe tbody tr th:only-of-type {\n",
       "        vertical-align: middle;\n",
       "    }\n",
       "\n",
       "    .dataframe tbody tr th {\n",
       "        vertical-align: top;\n",
       "    }\n",
       "\n",
       "    .dataframe thead th {\n",
       "        text-align: right;\n",
       "    }\n",
       "</style>\n",
       "<table border=\"1\" class=\"dataframe\">\n",
       "  <thead>\n",
       "    <tr style=\"text-align: right;\">\n",
       "      <th></th>\n",
       "      <th>questions</th>\n",
       "      <th>answers</th>\n",
       "    </tr>\n",
       "  </thead>\n",
       "  <tbody>\n",
       "    <tr>\n",
       "      <th>0</th>\n",
       "      <td>What does the job hunting experience look like ?</td>\n",
       "      <td>Job hunting experience involves networking to ...</td>\n",
       "    </tr>\n",
       "    <tr>\n",
       "      <th>1</th>\n",
       "      <td>Any insights you can offer about the DS job ma...</td>\n",
       "      <td>There are many kinds of roles, data scientist,...</td>\n",
       "    </tr>\n",
       "    <tr>\n",
       "      <th>2</th>\n",
       "      <td>What’s the impact of Covid on hiring for DS ro...</td>\n",
       "      <td>Hiring is going to slow down. First in small c...</td>\n",
       "    </tr>\n",
       "    <tr>\n",
       "      <th>3</th>\n",
       "      <td>What skills and qualities do employers look fo...</td>\n",
       "      <td>The following are some skills employers usuall...</td>\n",
       "    </tr>\n",
       "    <tr>\n",
       "      <th>4</th>\n",
       "      <td>Do employers look for an advanced ML degree?</td>\n",
       "      <td>For more senior roles: People typically look f...</td>\n",
       "    </tr>\n",
       "    <tr>\n",
       "      <th>5</th>\n",
       "      <td>How does a typical day of a data scientist loo...</td>\n",
       "      <td>Here are some tasks in the typical day of a da...</td>\n",
       "    </tr>\n",
       "    <tr>\n",
       "      <th>6</th>\n",
       "      <td>Is preparation of algorithms and data structur...</td>\n",
       "      <td>Yes. In many data science interviews (ML Scien...</td>\n",
       "    </tr>\n",
       "    <tr>\n",
       "      <th>7</th>\n",
       "      <td>What is the mathematical background required t...</td>\n",
       "      <td>The following three are the basic building blo...</td>\n",
       "    </tr>\n",
       "    <tr>\n",
       "      <th>8</th>\n",
       "      <td>What are the various rounds in a data scientis...</td>\n",
       "      <td>Usually the data science interview has a subse...</td>\n",
       "    </tr>\n",
       "    <tr>\n",
       "      <th>9</th>\n",
       "      <td>What level of proficiency is needed for a data...</td>\n",
       "      <td>Needs to be reasonably proficient. Again, a da...</td>\n",
       "    </tr>\n",
       "  </tbody>\n",
       "</table>\n",
       "</div>"
      ],
      "text/plain": [
       "                                           questions  \\\n",
       "0   What does the job hunting experience look like ?   \n",
       "1  Any insights you can offer about the DS job ma...   \n",
       "2  What’s the impact of Covid on hiring for DS ro...   \n",
       "3  What skills and qualities do employers look fo...   \n",
       "4       Do employers look for an advanced ML degree?   \n",
       "5  How does a typical day of a data scientist loo...   \n",
       "6  Is preparation of algorithms and data structur...   \n",
       "7  What is the mathematical background required t...   \n",
       "8  What are the various rounds in a data scientis...   \n",
       "9  What level of proficiency is needed for a data...   \n",
       "\n",
       "                                             answers  \n",
       "0  Job hunting experience involves networking to ...  \n",
       "1  There are many kinds of roles, data scientist,...  \n",
       "2  Hiring is going to slow down. First in small c...  \n",
       "3  The following are some skills employers usuall...  \n",
       "4  For more senior roles: People typically look f...  \n",
       "5  Here are some tasks in the typical day of a da...  \n",
       "6  Yes. In many data science interviews (ML Scien...  \n",
       "7  The following three are the basic building blo...  \n",
       "8  Usually the data science interview has a subse...  \n",
       "9  Needs to be reasonably proficient. Again, a da...  "
      ]
     },
     "execution_count": 56,
     "metadata": {},
     "output_type": "execute_result"
    }
   ],
   "source": [
    "df=pd.read_csv(\"FAQ_MachineLearningInterview_com.csv\");\n",
    "df.columns=[\"questions\",\"answers\"];\n",
    "\n",
    "df"
   ]
  },
  {
   "cell_type": "code",
   "execution_count": 57,
   "metadata": {},
   "outputs": [],
   "source": [
    "# Preprocessing\n",
    "\n",
    "import re\n",
    "import gensim \n",
    "from gensim.parsing.preprocessing import remove_stopwords\n",
    "\n",
    "#from nltk.stem.lancaster import LancasterStemmer\n",
    "#st = LancasterStemmer()\n",
    "\n",
    "def clean_sentence(sentence, stopwords=False):\n",
    "    \n",
    "    sentence = sentence.lower().strip()\n",
    "    sentence = re.sub(r'[^a-z0-9\\s]', '', sentence)\n",
    "    #sentence = re.sub(r'\\s{2,}', ' ', sentence)\n",
    "    \n",
    "    if stopwords:\n",
    "         sentence = remove_stopwords(sentence)\n",
    "        \n",
    "    return sentence"
   ]
  },
  {
   "cell_type": "code",
   "execution_count": 58,
   "metadata": {},
   "outputs": [
    {
     "name": "stdout",
     "output_type": "stream",
     "text": [
      "['job hunting experience look like', 'insights offer ds job market', 'whats impact covid hiring ds roles', 'skills qualities employers look data scientist', 'employers look advanced ml degree', 'typical day data scientist look like', 'preparation algorithms data structures needed data science interview', 'mathematical background required data scientist', 'rounds data scientist interview', 'level proficiency needed data scientist coding']\n",
      "\n",
      "\n",
      "['what does the job hunting experience look like ', 'any insights you can offer about the ds job market ', 'whats the impact of covid on hiring for ds roles', 'what skills and qualities do employers look for in a data scientist', 'do employers look for an advanced ml degree', 'how does a typical day of a data scientist look like', 'is preparation of algorithms and data structures needed for a data science interview ', 'what is the mathematical background required to be a data scientist ', 'what are the various rounds in a data scientist interview ', 'what level of proficiency is needed for a data scientist in coding']\n"
     ]
    }
   ],
   "source": [
    "def get_cleaned_sentences1(df, col, stopwords=False):\n",
    "    \n",
    "    cleaned_sentences=[]\n",
    "    \n",
    "    for index,row in df.iterrows():\n",
    "#         print(index,row[col])\n",
    "        cleaned=clean_sentence(row[col],stopwords);\n",
    "        cleaned_sentences.append(cleaned);\n",
    "    return cleaned_sentences;\n",
    "        \n",
    "\n",
    "        \n",
    "# Calling the function get_cleaned_sentences\n",
    "\n",
    "# Case1: Without stopwords\n",
    "cleaned_sentences=get_cleaned_sentences1(df, 'questions', stopwords=True)\n",
    "print(cleaned_sentences);\n",
    "\n",
    "print(\"\\n\")\n",
    "\n",
    "# Case2: With stopwords\n",
    "cleaned_sentences_with_stopwords=get_cleaned_sentences1(df, 'questions', stopwords=False)\n",
    "print(cleaned_sentences_with_stopwords);"
   ]
  },
  {
   "cell_type": "code",
   "execution_count": 6,
   "metadata": {},
   "outputs": [],
   "source": [
    "# # tokenization\n",
    "\n",
    "# import numpy\n",
    "\n",
    "# sentences=cleaned_sentences_with_stopwords\n",
    "# #sentences=cleaned_sentences\n",
    "\n",
    "# # Split it by white space \n",
    "# sentence_words = [[word for word in document.split() ] for document in sentences]\n",
    "\n",
    "# sentence_words"
   ]
  },
  {
   "cell_type": "code",
   "execution_count": 59,
   "metadata": {},
   "outputs": [
    {
     "name": "stdout",
     "output_type": "stream",
     "text": [
      "0  :  does\n",
      "1  :  experience\n",
      "2  :  hunting\n",
      "3  :  job\n",
      "4  :  like\n",
      "5  :  look\n",
      "6  :  the\n",
      "7  :  what\n",
      "8  :  about\n",
      "9  :  any\n",
      "10  :  can\n",
      "11  :  ds\n",
      "12  :  insights\n",
      "13  :  market\n",
      "14  :  offer\n",
      "15  :  you\n",
      "16  :  covid\n",
      "17  :  for\n",
      "18  :  hiring\n",
      "19  :  impact\n",
      "20  :  of\n",
      "21  :  on\n",
      "22  :  roles\n",
      "23  :  whats\n",
      "24  :  a\n",
      "25  :  and\n",
      "26  :  data\n",
      "27  :  do\n",
      "28  :  employers\n",
      "29  :  in\n",
      "30  :  qualities\n",
      "31  :  scientist\n",
      "32  :  skills\n",
      "33  :  advanced\n",
      "34  :  an\n",
      "35  :  degree\n",
      "36  :  ml\n",
      "37  :  day\n",
      "38  :  how\n",
      "39  :  typical\n",
      "40  :  algorithms\n",
      "41  :  interview\n",
      "42  :  is\n",
      "43  :  needed\n",
      "44  :  preparation\n",
      "45  :  science\n",
      "46  :  structures\n",
      "47  :  background\n",
      "48  :  be\n",
      "49  :  mathematical\n",
      "50  :  required\n",
      "51  :  to\n",
      "52  :  are\n",
      "53  :  rounds\n",
      "54  :  various\n",
      "55  :  coding\n",
      "56  :  level\n",
      "57  :  proficiency\n",
      "what does the job hunting experience look like \n",
      "[(0, 1), (1, 1), (2, 1), (3, 1), (4, 1), (5, 1), (6, 1), (7, 1)]\n",
      "any insights you can offer about the ds job market \n",
      "[(3, 1), (6, 1), (8, 1), (9, 1), (10, 1), (11, 1), (12, 1), (13, 1), (14, 1), (15, 1)]\n",
      "whats the impact of covid on hiring for ds roles\n",
      "[(6, 1), (11, 1), (16, 1), (17, 1), (18, 1), (19, 1), (20, 1), (21, 1), (22, 1), (23, 1)]\n",
      "what skills and qualities do employers look for in a data scientist\n",
      "[(5, 1), (7, 1), (17, 1), (24, 1), (25, 1), (26, 1), (27, 1), (28, 1), (29, 1), (30, 1), (31, 1), (32, 1)]\n",
      "do employers look for an advanced ml degree\n",
      "[(5, 1), (17, 1), (27, 1), (28, 1), (33, 1), (34, 1), (35, 1), (36, 1)]\n",
      "how does a typical day of a data scientist look like\n",
      "[(0, 1), (4, 1), (5, 1), (20, 1), (24, 2), (26, 1), (31, 1), (37, 1), (38, 1), (39, 1)]\n",
      "is preparation of algorithms and data structures needed for a data science interview \n",
      "[(17, 1), (20, 1), (24, 1), (25, 1), (26, 2), (40, 1), (41, 1), (42, 1), (43, 1), (44, 1), (45, 1), (46, 1)]\n",
      "what is the mathematical background required to be a data scientist \n",
      "[(6, 1), (7, 1), (24, 1), (26, 1), (31, 1), (42, 1), (47, 1), (48, 1), (49, 1), (50, 1), (51, 1)]\n",
      "what are the various rounds in a data scientist interview \n",
      "[(6, 1), (7, 1), (24, 1), (26, 1), (29, 1), (31, 1), (41, 1), (52, 1), (53, 1), (54, 1)]\n",
      "what level of proficiency is needed for a data scientist in coding\n",
      "[(7, 1), (17, 1), (20, 1), (24, 1), (26, 1), (29, 1), (31, 1), (42, 1), (43, 1), (55, 1), (56, 1), (57, 1)]\n"
     ]
    }
   ],
   "source": [
    "from gensim import corpora\n",
    "\n",
    "\n",
    "sentences=cleaned_sentences_with_stopwords\n",
    "#sentences=cleaned_sentences\n",
    "\n",
    "# Split it by white space \n",
    "sentence_words = [[word for word in document.split() ]\n",
    "         for document in sentences]\n",
    "\n",
    "from gensim import corpora\n",
    "\n",
    "dictionary = corpora.Dictionary(sentence_words)\n",
    "for key, value in dictionary.items():\n",
    "    print(key, ' : ', value)\n",
    "\n",
    "import pprint\n",
    "bow_corpus = [dictionary.doc2bow(text) for text in sentence_words]\n",
    "for sent,embedding in zip(sentences,bow_corpus):\n",
    "    print(sent)\n",
    "    print(embedding)\n",
    "\n"
   ]
  },
  {
   "cell_type": "code",
   "execution_count": 60,
   "metadata": {},
   "outputs": [
    {
     "name": "stdout",
     "output_type": "stream",
     "text": [
      "\n",
      "\n",
      " what does a data scientist usually do  \n",
      " [(0, 1), (7, 1), (24, 1), (26, 1), (27, 1), (31, 1)]\n"
     ]
    }
   ],
   "source": [
    "#question_orig=\"do I need to learn algorithms to be a data scientist ?\";\n",
    "question_orig=\"What does a data scientist usually do ?\"\n",
    "question=clean_sentence(question_orig,stopwords=False);\n",
    "question_embedding = dictionary.doc2bow(question.split())\n",
    "\n",
    "\n",
    "print(\"\\n\\n\",question,\"\\n\",question_embedding)"
   ]
  },
  {
   "cell_type": "code",
   "execution_count": 9,
   "metadata": {},
   "outputs": [
    {
     "name": "stdout",
     "output_type": "stream",
     "text": [
      "0 1.0 what does the job hunting experience look like \n",
      "1 0.31622776601683794 any insights you can offer about the ds job market \n",
      "2 0.1643989873053573 whats the impact of covid on hiring for ds roles\n",
      "3 0.19611613513818404 what skills and qualities do employers look for in a data scientist\n",
      "4 0.19611613513818404 do employers look for an advanced ml degree\n",
      "5 1.0 how does a typical day of a data scientist look like\n",
      "6 0.058722021951470346 is preparation of algorithms and data structures needed for a data science interview \n",
      "7 0.1643989873053573 what is the mathematical background required to be a data scientist \n",
      "8 0.1643989873053573 what are the various rounds in a data scientist interview \n",
      "9 0.1414213562373095 what level of proficiency is needed for a data scientist in coding\n"
     ]
    }
   ],
   "source": [
    "import sklearn\n",
    "from sklearn.metrics.pairwise import cosine_similarity;\n",
    "\n",
    "for index,faq_embedding in enumerate(bow_corpus):\n",
    "        sim=cosine_similarity(faq_embedding,question_embedding)[0][0];\n",
    "        print(index, sim, sentences[index])"
   ]
  },
  {
   "cell_type": "code",
   "execution_count": 61,
   "metadata": {},
   "outputs": [
    {
     "name": "stdout",
     "output_type": "stream",
     "text": [
      "0 1.0 what does the job hunting experience look like \n",
      "1 0.31622776601683794 any insights you can offer about the ds job market \n",
      "2 0.1643989873053573 whats the impact of covid on hiring for ds roles\n",
      "3 0.19611613513818404 what skills and qualities do employers look for in a data scientist\n",
      "4 0.19611613513818404 do employers look for an advanced ml degree\n",
      "5 1.0 how does a typical day of a data scientist look like\n",
      "6 0.058722021951470346 is preparation of algorithms and data structures needed for a data science interview \n",
      "7 0.1643989873053573 what is the mathematical background required to be a data scientist \n",
      "8 0.1643989873053573 what are the various rounds in a data scientist interview \n",
      "9 0.1414213562373095 what level of proficiency is needed for a data scientist in coding\n"
     ]
    }
   ],
   "source": [
    "import sklearn\n",
    "from sklearn.metrics.pairwise import cosine_similarity\n",
    "def get_cosim(question_embedding,sentence_embeddings):\n",
    "    for index,faq_embedding in enumerate(sentence_embeddings):\n",
    "        sim=cosine_similarity(faq_embedding,question_embedding)[0][0]\n",
    "        print(index, sim, sentences[index])\n",
    "          \n",
    "    \n",
    "get_cosim(question_embedding,bow_corpus)"
   ]
  },
  {
   "cell_type": "code",
   "execution_count": 10,
   "metadata": {},
   "outputs": [
    {
     "name": "stdout",
     "output_type": "stream",
     "text": [
      "Loaded glove model\n",
      "Loaded w2v model\n"
     ]
    }
   ],
   "source": [
    "from gensim.models import Word2Vec \n",
    "import gensim.downloader as api\n",
    "\n",
    "\n",
    "glove_model=None;\n",
    "try:\n",
    "    glove_model = gensim.models.KeyedVectors.load(\"./glovemodel.mod\")\n",
    "    print(\"Loaded glove model\")\n",
    "except:            \n",
    "    glove_model = api.load('glove-twitter-25')\n",
    "    glove_model.save(\"./glovemodel.mod\")\n",
    "    print(\"Saved glove model\")\n",
    "    \n",
    "v2w_model=None;\n",
    "try:\n",
    "    v2w_model = gensim.models.KeyedVectors.load(\"./w2vecmodel.mod\")\n",
    "    print(\"Loaded w2v model\")\n",
    "except:            \n",
    "    v2w_model = api.load('word2vec-google-news-300')\n",
    "    v2w_model.save(\"./w2vecmodel.mod\")\n",
    "    print(\"Saved glove model\")\n",
    "\n",
    "w2vec_embedding_size=len(v2w_model['computer']);\n",
    "glove_embedding_size=len(glove_model['computer']);\n"
   ]
  },
  {
   "cell_type": "code",
   "execution_count": 75,
   "metadata": {},
   "outputs": [],
   "source": [
    "def getWordVec(word,model):\n",
    "        samp=model['computer'];\n",
    "        vec=[0]*len(samp);\n",
    "        try:\n",
    "                vec=model[word]; \n",
    "        except:\n",
    "                vec=[0]*len(samp);\n",
    "        return (vec)\n",
    "\n",
    "\n",
    "def getPhraseEmbedding(phrase,embeddingmodel):\n",
    "                       \n",
    "        samp=getWordVec('computer', embeddingmodel);\n",
    "        vec=np.array([0]*len(samp));\n",
    "        den=0;\n",
    "        for word in phrase.split():\n",
    "            #print(word)\n",
    "            den=den+1;\n",
    "            vec=vec+np.array(getWordVec(word,embeddingmodel));\n",
    "        #vec=vec/den;\n",
    "        #return (vec.tolist());\n",
    "        return vec.reshape(1, -1)"
   ]
  },
  {
   "cell_type": "code",
   "execution_count": 76,
   "metadata": {},
   "outputs": [
    {
     "name": "stdout",
     "output_type": "stream",
     "text": [
      "0 0.4288335171208904 what does the job hunting experience look like \n",
      "1 0.33900238109038106 any insights you can offer about the ds job market \n",
      "2 0.2992552732030833 whats the impact of covid on hiring for ds roles\n",
      "3 0.5991923709091536 what skills and qualities do employers look for in a data scientist\n",
      "4 0.28361090014212653 do employers look for an advanced ml degree\n",
      "5 0.7728937373489242 how does a typical day of a data scientist look like\n",
      "6 0.6020050170744113 is preparation of algorithms and data structures needed for a data science interview \n",
      "7 0.6440332904913527 what is the mathematical background required to be a data scientist \n",
      "8 0.5696568380249727 what are the various rounds in a data scientist interview \n",
      "9 0.5920593804800891 what level of proficiency is needed for a data scientist in coding\n"
     ]
    }
   ],
   "source": [
    "#With w2Vec\n",
    "\n",
    "sent_embeddings=[];\n",
    "for sent in cleaned_sentences:\n",
    "    sent_embeddings.append(getPhraseEmbedding(sent,v2w_model));\n",
    "\n",
    "question_embedding=getPhraseEmbedding(question,v2w_model);\n",
    "\n",
    "get_cosim(question_embedding,sent_embeddings)"
   ]
  },
  {
   "cell_type": "code",
   "execution_count": 77,
   "metadata": {},
   "outputs": [
    {
     "name": "stdout",
     "output_type": "stream",
     "text": [
      "0 0.9206842895542597 what does the job hunting experience look like \n",
      "1 0.774016663828011 any insights you can offer about the ds job market \n",
      "2 0.8574905678154825 whats the impact of covid on hiring for ds roles\n",
      "3 0.8762150927509162 what skills and qualities do employers look for in a data scientist\n",
      "4 0.8210408780157618 do employers look for an advanced ml degree\n",
      "5 0.9545922769035372 how does a typical day of a data scientist look like\n",
      "6 0.8004428870598751 is preparation of algorithms and data structures needed for a data science interview \n",
      "7 0.7939550540301473 what is the mathematical background required to be a data scientist \n",
      "8 0.8481202624655193 what are the various rounds in a data scientist interview \n",
      "9 0.7833404988245978 what level of proficiency is needed for a data scientist in coding\n"
     ]
    }
   ],
   "source": [
    "#With Glove\n",
    "\n",
    "sent_embeddings=[];\n",
    "for sent in cleaned_sentences:\n",
    "    sent_embeddings.append(getPhraseEmbedding(sent,glove_model));\n",
    "    \n",
    "question_embedding=getPhraseEmbedding(question,glove_model);\n",
    "\n",
    "get_cosim(question_embedding,sent_embeddings);"
   ]
  },
  {
   "cell_type": "code",
   "execution_count": null,
   "metadata": {},
   "outputs": [],
   "source": []
  }
 ],
 "metadata": {
  "kernelspec": {
   "display_name": "Python 3",
   "language": "python",
   "name": "python3"
  },
  "language_info": {
   "codemirror_mode": {
    "name": "ipython",
    "version": 3
   },
   "file_extension": ".py",
   "mimetype": "text/x-python",
   "name": "python",
   "nbconvert_exporter": "python",
   "pygments_lexer": "ipython3",
   "version": "3.8.5"
  }
 },
 "nbformat": 4,
 "nbformat_minor": 4
}
