{
 "cells": [
  {
   "cell_type": "code",
   "execution_count": 1,
   "metadata": {},
   "outputs": [
    {
     "name": "stderr",
     "output_type": "stream",
     "text": [
      "[nltk_data] Downloading package wordnet to\n",
      "[nltk_data]     C:\\Users\\Ravi\\AppData\\Roaming\\nltk_data...\n",
      "[nltk_data]   Package wordnet is already up-to-date!\n",
      "[nltk_data] Downloading package stopwords to\n",
      "[nltk_data]     C:\\Users\\Ravi\\AppData\\Roaming\\nltk_data...\n",
      "[nltk_data]   Package stopwords is already up-to-date!\n",
      "[nltk_data] Downloading package punkt to\n",
      "[nltk_data]     C:\\Users\\Ravi\\AppData\\Roaming\\nltk_data...\n",
      "[nltk_data]   Package punkt is already up-to-date!\n"
     ]
    }
   ],
   "source": [
    "import os\n",
    "import re\n",
    "\n",
    "import nltk\n",
    "\n",
    "# download the stopwords and wordnet corpus\n",
    "nltk.download('wordnet')\n",
    "nltk.download('stopwords')\n",
    "nltk.download('punkt')\n",
    "\n",
    "from nltk.corpus import stopwords\n",
    "stopword = stopwords.words('english')\n",
    "from nltk.tokenize import word_tokenize\n",
    "from nltk.stem import WordNetLemmatizer\n",
    "\n",
    "\n",
    "import gensim\n",
    "from gensim.models import KeyedVectors\n",
    "from gensim.utils import simple_preprocess   \n"
   ]
  },
  {
   "cell_type": "code",
   "execution_count": 2,
   "metadata": {},
   "outputs": [
    {
     "name": "stdout",
     "output_type": "stream",
     "text": [
      "Before chdir: C:\\Users\\Ravi\n",
      "After chdir: F:\\cosinesim\n"
     ]
    },
    {
     "data": {
      "text/plain": [
       "['A TUTORIAL ON DISTANCE METRIC LEARNING.pdf',\n",
       " 'cosine similarity-Copy2.ipynb',\n",
       " 'Cosine_Similarity_with_Glove.ipynb',\n",
       " 'embeddings.xlsx',\n",
       " 'fasttext_model300.mod',\n",
       " 'fasttext_model300.mod.vectors.npy',\n",
       " 'glovemodel.mod',\n",
       " 'glovemodel.mod.vectors.npy',\n",
       " 'Semantic-Similarity-of-Sentences-master.zip',\n",
       " 'text_similarity_solution .ipynb',\n",
       " 'w2vecmodel.mod',\n",
       " 'w2vecmodel.mod.vectors.npy']"
      ]
     },
     "execution_count": 2,
     "metadata": {},
     "output_type": "execute_result"
    }
   ],
   "source": [
    "# change working directory\n",
    "import os\n",
    "print('Before chdir:', os.getcwd())\n",
    "\n",
    "os.chdir('F:\\\\cosinesim\\\\') \n",
    "         \n",
    "print('After chdir:', os.getcwd())\n",
    "\n",
    "os.listdir()"
   ]
  },
  {
   "cell_type": "code",
   "execution_count": 3,
   "metadata": {},
   "outputs": [
    {
     "name": "stdout",
     "output_type": "stream",
     "text": [
      "Wall time: 0 ns\n"
     ]
    }
   ],
   "source": [
    "%%time\n",
    "# Preprocessing \n",
    "def tokenize(text):\n",
    "    text.lower()\n",
    "    \n",
    "    # use library re to replace urls by token - urlplaceholder\n",
    "#     text = re.sub(url_regex, 'urlplaceholder', text)\n",
    "    \n",
    "    # use library re to replace non ascii characters by a space\n",
    "#     text = re.sub(non_ascii_regex, ' ', text)\n",
    "\n",
    "    # use word_tokenize to tokenize the sentences\n",
    "    tokens = word_tokenize(text)\n",
    "    \n",
    "    # instantiate an object of class WordNetLemmatizer\n",
    "    lemmatizer = WordNetLemmatizer()\n",
    "\n",
    "    # use a list comprehension to lemmatize the tokens and remove the the stopwords\n",
    "    clean_tokens = [lemmatizer.lemmatize(word) for word in tokens if word not in stopword]\n",
    "\n",
    "    # return the tokens\n",
    "    return clean_tokens"
   ]
  },
  {
   "cell_type": "code",
   "execution_count": 4,
   "metadata": {},
   "outputs": [
    {
     "name": "stdout",
     "output_type": "stream",
     "text": [
      "Wall time: 0 ns\n"
     ]
    }
   ],
   "source": [
    "%%time\n",
    "# data - sentences\n",
    "query = \"apple is fruit\"\n",
    "doc = \"apple is phone\""
   ]
  },
  {
   "cell_type": "code",
   "execution_count": 5,
   "metadata": {},
   "outputs": [
    {
     "name": "stdout",
     "output_type": "stream",
     "text": [
      "query tokens ['apple', 'fruit']\n",
      "doc tokens ['apple', 'phone']\n",
      "Wall time: 2.84 s\n"
     ]
    }
   ],
   "source": [
    "%%time\n",
    "import re\n",
    "query_tokens = tokenize(query)\n",
    "print(\"query tokens\", query_tokens)\n",
    "\n",
    "doc_tokens = tokenize(doc)\n",
    "print(\"doc tokens\", doc_tokens)"
   ]
  },
  {
   "cell_type": "code",
   "execution_count": 11,
   "metadata": {},
   "outputs": [
    {
     "name": "stdout",
     "output_type": "stream",
     "text": [
      "0.7750639\n",
      "Wall time: 1min 44s\n",
      "Parser   : 258 ms\n"
     ]
    }
   ],
   "source": [
    "%%time\n",
    "\n",
    "# caluclate similarity - fasttext\n",
    "import gensim\n",
    "from gensim.models import KeyedVectors\n",
    "from gensim.utils import simple_preprocess   \n",
    "\n",
    "def get_sentence_similarity(sentence_1, sentence_2, model_wv):\n",
    "    tokens_1 = tokenize(sentence_1)    \n",
    "    tokens_2 = tokenize(sentence_2)    \n",
    "    return model_wv.n_similarity(tokens_1, tokens_2)\n",
    "\n",
    "fasttext_model300 = gensim.models.KeyedVectors.load(\"./fasttext_model300.mod\")\n",
    "sim = get_sentence_similarity('apple is fruit', 'apple is phone', fasttext_model300)\n",
    "print(sim)"
   ]
  },
  {
   "cell_type": "code",
   "execution_count": 12,
   "metadata": {},
   "outputs": [
    {
     "name": "stdout",
     "output_type": "stream",
     "text": [
      "0.7795816\n",
      "Wall time: 51.9 s\n",
      "Compiler : 538 ms\n",
      "Parser   : 481 ms\n"
     ]
    }
   ],
   "source": [
    "%%time\n",
    "\n",
    "# caluclate similarity - glove\n",
    "import gensim\n",
    "from gensim.models import KeyedVectors\n",
    "  \n",
    "def get_sentence_similarity(sentence_1, sentence_2, model_wv):\n",
    "    tokens_1 = tokenize(sentence_1)    \n",
    "    tokens_2 = tokenize(sentence_2)    \n",
    "    return model_wv.n_similarity(tokens_1, tokens_2)\n",
    "\n",
    "glove_model = gensim.models.KeyedVectors.load(\"./glovemodel.mod\")\n",
    "sim = get_sentence_similarity('apple is fruit', 'apple is phone', glove_model)\n",
    "print(sim)"
   ]
  },
  {
   "cell_type": "code",
   "execution_count": 15,
   "metadata": {},
   "outputs": [
    {
     "name": "stdout",
     "output_type": "stream",
     "text": [
      "0.7795816\n",
      "Wall time: 12min 14s\n"
     ]
    }
   ],
   "source": [
    "%%time\n",
    "\n",
    "# caluclate similarity - w2vec\n",
    "import gensim\n",
    "from gensim.models import KeyedVectors\n",
    "\n",
    "def get_sentence_similarity(sentence_1, sentence_2, model_wv):\n",
    "    tokens_1 = tokenize(sentence_1)    \n",
    "    tokens_2 = tokenize(sentence_2)    \n",
    "    return model_wv.n_similarity(tokens_1, tokens_2)\n",
    "\n",
    "\n",
    "v2w_model = gensim.models.KeyedVectors.load(\"./w2vecmodel.mod\")\n",
    "sim = get_sentence_similarity('apple is fruit', 'apple is phone', glove_model)\n",
    "print(sim)"
   ]
  },
  {
   "cell_type": "markdown",
   "metadata": {},
   "source": [
    "What is doc2vec?\n",
    "doc2vec like word2vec creates numerical representation of sentence/paragraphs/documents.\n",
    "Doc2Vec computes a feature vector for every document in the corpus.\n",
    "The vectors generated by doc2vec can be used for tasks like finding \n",
    "similarity between sentences/paragraphs/documents"
   ]
  },
  {
   "cell_type": "code",
   "execution_count": 68,
   "metadata": {},
   "outputs": [
    {
     "name": "stdout",
     "output_type": "stream",
     "text": [
      "tokenized_docs: [['apple', 'fruit'], ['apple', 'phone']]\n",
      "Similarity between two sentences is: 0.48066333\n",
      "Wall time: 229 ms\n"
     ]
    },
    {
     "data": {
      "text/plain": [
       "0.48066333"
      ]
     },
     "execution_count": 68,
     "metadata": {},
     "output_type": "execute_result"
    }
   ],
   "source": [
    "%%time\n",
    "\n",
    "# caluclate similarity - doc2vec\n",
    "# import gensim doc2vec\n",
    "from gensim.models.doc2vec import Doc2Vec, TaggedDocument\n",
    "\n",
    "def Docs2Vec(s1, s2):\n",
    "    \n",
    "    # Create docs\n",
    "    docs = [s1, s2]\n",
    "    \n",
    "    # tokenization of docs\n",
    "    tokenized_docs = []\n",
    "    for doc in docs:\n",
    "        tokenized_docs.append(tokenize(doc))\n",
    "    print(\"tokenized_docs:\", tokenized_docs)\n",
    "    \n",
    "    # tagging docs\n",
    "    tagged_data = [TaggedDocument(d, [i]) for i, d in enumerate(tokenized_docs)]\n",
    "#     print(\"Tagged data:\", tagged_data)\n",
    "    \n",
    "    \n",
    "    ## Train doc2vec model\n",
    "    model = Doc2Vec(tagged_data, vector_size = 20, window = 2, min_count = 1, epochs = 100)\n",
    "\n",
    "    '''\n",
    "    vector_size = Dimensionality of the feature vectors.\n",
    "    window = The maximum distance between the current and predicted word within a sentence.\n",
    "    min_count = Ignores all words with total frequency lower than this.\n",
    "    alpha = The initial learning rate.\n",
    "    '''\n",
    "\n",
    "    ## Print model vocabulary\n",
    "#     print(\"model vocabulary:\", model.wv.vocab)\n",
    "    \n",
    "    \n",
    "    cosim = model.wv.n_similarity(query_tokens, doc_tokens)\n",
    "    print(\"Similarity between two sentences is:\", cosim)\n",
    "    return cosim\n",
    "    \n",
    "    \n",
    "# Calling the function Doc2Vec on query and doc\n",
    "Docs2Vec(query, doc)"
   ]
  },
  {
   "cell_type": "code",
   "execution_count": null,
   "metadata": {},
   "outputs": [],
   "source": [
    "# Bert embedings\n",
    "# sentences1 = [\"apple is fruit\", \"apple is phone\"]\n",
    "# # load the pre-trained BERT model\n",
    "\n",
    "# from sentence_transformers import SentenceTransformer\n",
    "# sbert_model = SentenceTransformer('bert-base-nli-mean-tokens')\n",
    "\n",
    "# # encode the provided sentences to vectors\n",
    "# sentence_embeddings = model.encode(sentences)\n",
    "\n",
    "\n",
    "# query1 = \"apple is not orange\"\n",
    "# query_vec = model.encode([query1])[0]\n",
    "\n",
    "# for sent in sentences:\n",
    "#   sim = cosine(query_vec, model.encode([sent])[0])\n",
    "#   print(\"Sentence = \", sent, \"; similarity = \", sim)"
   ]
  },
  {
   "cell_type": "code",
   "execution_count": null,
   "metadata": {},
   "outputs": [],
   "source": []
  },
  {
   "cell_type": "code",
   "execution_count": null,
   "metadata": {},
   "outputs": [],
   "source": []
  },
  {
   "cell_type": "code",
   "execution_count": null,
   "metadata": {},
   "outputs": [],
   "source": []
  },
  {
   "cell_type": "code",
   "execution_count": null,
   "metadata": {},
   "outputs": [],
   "source": []
  },
  {
   "cell_type": "code",
   "execution_count": null,
   "metadata": {},
   "outputs": [],
   "source": []
  },
  {
   "cell_type": "code",
   "execution_count": null,
   "metadata": {},
   "outputs": [],
   "source": []
  },
  {
   "cell_type": "code",
   "execution_count": null,
   "metadata": {},
   "outputs": [],
   "source": []
  },
  {
   "cell_type": "code",
   "execution_count": null,
   "metadata": {},
   "outputs": [],
   "source": []
  },
  {
   "cell_type": "code",
   "execution_count": null,
   "metadata": {},
   "outputs": [],
   "source": []
  },
  {
   "cell_type": "code",
   "execution_count": null,
   "metadata": {},
   "outputs": [],
   "source": []
  },
  {
   "cell_type": "code",
   "execution_count": null,
   "metadata": {},
   "outputs": [],
   "source": []
  },
  {
   "cell_type": "code",
   "execution_count": null,
   "metadata": {},
   "outputs": [],
   "source": []
  },
  {
   "cell_type": "code",
   "execution_count": null,
   "metadata": {},
   "outputs": [],
   "source": []
  },
  {
   "cell_type": "code",
   "execution_count": null,
   "metadata": {},
   "outputs": [],
   "source": []
  },
  {
   "cell_type": "code",
   "execution_count": 54,
   "metadata": {},
   "outputs": [],
   "source": [
    "# Read data\n",
    "docs = [\"apple is fruit\", \"apple is phone\"]"
   ]
  },
  {
   "cell_type": "code",
   "execution_count": 55,
   "metadata": {},
   "outputs": [
    {
     "data": {
      "text/plain": [
       "[['apple', 'fruit'], ['apple', 'phone']]"
      ]
     },
     "execution_count": 55,
     "metadata": {},
     "output_type": "execute_result"
    }
   ],
   "source": [
    "# tokenization of docs\n",
    "tokenized_docs = []\n",
    "for doc in docs:\n",
    "    tokenized_docs.append(tokenize(doc))\n",
    "tokenized_docs"
   ]
  },
  {
   "cell_type": "code",
   "execution_count": 56,
   "metadata": {},
   "outputs": [
    {
     "data": {
      "text/plain": [
       "[TaggedDocument(words=['apple', 'fruit'], tags=[0]),\n",
       " TaggedDocument(words=['apple', 'phone'], tags=[1])]"
      ]
     },
     "execution_count": 56,
     "metadata": {},
     "output_type": "execute_result"
    }
   ],
   "source": [
    "# import gensim doc2vec\n",
    "from gensim.models.doc2vec import Doc2Vec, TaggedDocument\n",
    "\n",
    "# tagging docs\n",
    "tagged_data = [TaggedDocument(d, [i]) for i, d in enumerate(tokenized_docs)]\n",
    "tagged_data"
   ]
  },
  {
   "cell_type": "code",
   "execution_count": 57,
   "metadata": {},
   "outputs": [
    {
     "data": {
      "text/plain": [
       "{'apple': <gensim.models.keyedvectors.Vocab at 0x216d4fd0be0>,\n",
       " 'fruit': <gensim.models.keyedvectors.Vocab at 0x216d4fd0d30>,\n",
       " 'phone': <gensim.models.keyedvectors.Vocab at 0x216d4fd0e20>}"
      ]
     },
     "execution_count": 57,
     "metadata": {},
     "output_type": "execute_result"
    }
   ],
   "source": [
    "## Train doc2vec model\n",
    "model = Doc2Vec(tagged_data, vector_size = 20, window = 2, min_count = 1, epochs = 100)\n",
    "\n",
    "'''\n",
    "vector_size = Dimensionality of the feature vectors.\n",
    "window = The maximum distance between the current and predicted word within a sentence.\n",
    "min_count = Ignores all words with total frequency lower than this.\n",
    "alpha = The initial learning rate.\n",
    "'''\n",
    "\n",
    "## Print model vocabulary\n",
    "model.wv.vocab"
   ]
  },
  {
   "cell_type": "code",
   "execution_count": 61,
   "metadata": {},
   "outputs": [
    {
     "data": {
      "text/plain": [
       "0.48066333"
      ]
     },
     "execution_count": 61,
     "metadata": {},
     "output_type": "execute_result"
    }
   ],
   "source": [
    "model.wv.n_similarity(query_tokens, doc_tokens)"
   ]
  },
  {
   "cell_type": "code",
   "execution_count": 67,
   "metadata": {},
   "outputs": [
    {
     "name": "stdout",
     "output_type": "stream",
     "text": [
      "tokenized_docs: [['apple', 'fruit'], ['apple', 'phone']]\n",
      "Similarity between two sentences is: 0.48066333\n",
      "Wall time: 269 ms\n"
     ]
    },
    {
     "data": {
      "text/plain": [
       "0.48066333"
      ]
     },
     "execution_count": 67,
     "metadata": {},
     "output_type": "execute_result"
    }
   ],
   "source": []
  },
  {
   "cell_type": "code",
   "execution_count": null,
   "metadata": {},
   "outputs": [],
   "source": []
  },
  {
   "cell_type": "code",
   "execution_count": null,
   "metadata": {},
   "outputs": [],
   "source": []
  },
  {
   "cell_type": "code",
   "execution_count": null,
   "metadata": {},
   "outputs": [],
   "source": []
  },
  {
   "cell_type": "code",
   "execution_count": null,
   "metadata": {},
   "outputs": [],
   "source": []
  },
  {
   "cell_type": "code",
   "execution_count": null,
   "metadata": {},
   "outputs": [],
   "source": []
  },
  {
   "cell_type": "code",
   "execution_count": null,
   "metadata": {},
   "outputs": [],
   "source": []
  },
  {
   "cell_type": "code",
   "execution_count": null,
   "metadata": {},
   "outputs": [],
   "source": []
  },
  {
   "cell_type": "code",
   "execution_count": null,
   "metadata": {},
   "outputs": [],
   "source": []
  },
  {
   "cell_type": "code",
   "execution_count": null,
   "metadata": {},
   "outputs": [],
   "source": []
  },
  {
   "cell_type": "code",
   "execution_count": null,
   "metadata": {},
   "outputs": [],
   "source": []
  },
  {
   "cell_type": "code",
   "execution_count": null,
   "metadata": {},
   "outputs": [],
   "source": []
  },
  {
   "cell_type": "code",
   "execution_count": null,
   "metadata": {},
   "outputs": [],
   "source": []
  },
  {
   "cell_type": "code",
   "execution_count": null,
   "metadata": {},
   "outputs": [],
   "source": []
  },
  {
   "cell_type": "code",
   "execution_count": null,
   "metadata": {},
   "outputs": [],
   "source": []
  },
  {
   "cell_type": "code",
   "execution_count": null,
   "metadata": {},
   "outputs": [],
   "source": []
  },
  {
   "cell_type": "code",
   "execution_count": null,
   "metadata": {},
   "outputs": [],
   "source": []
  },
  {
   "cell_type": "code",
   "execution_count": null,
   "metadata": {},
   "outputs": [],
   "source": []
  },
  {
   "cell_type": "code",
   "execution_count": null,
   "metadata": {},
   "outputs": [],
   "source": []
  },
  {
   "cell_type": "code",
   "execution_count": null,
   "metadata": {},
   "outputs": [],
   "source": []
  },
  {
   "cell_type": "code",
   "execution_count": null,
   "metadata": {},
   "outputs": [],
   "source": []
  },
  {
   "cell_type": "code",
   "execution_count": null,
   "metadata": {},
   "outputs": [],
   "source": []
  },
  {
   "cell_type": "code",
   "execution_count": null,
   "metadata": {},
   "outputs": [],
   "source": []
  },
  {
   "cell_type": "code",
   "execution_count": null,
   "metadata": {},
   "outputs": [],
   "source": []
  },
  {
   "cell_type": "code",
   "execution_count": null,
   "metadata": {},
   "outputs": [],
   "source": []
  },
  {
   "cell_type": "code",
   "execution_count": 28,
   "metadata": {},
   "outputs": [],
   "source": [
    "# s1 = 'the quick fox brown fox jumps over the lazy dog'\n",
    "# s1_tag = '001'\n",
    "# s2 = 'i want to burn a zero-day'\n",
    "# s2_tag = '002'\n",
    "\n",
    "# docs = []\n",
    "# docs.append(TaggedDocument(words=s1.split(), tags=[s1_tag])\n",
    "# docs.append(TaggedDocument(words=s2.split(), tags=[s2_tag])\n",
    "\n",
    "# model = gensim.models.Doc2Vec(vector_size=300, window=5, min_count=5, workers=4, epochs=20)\n",
    "# model.build_vocab(docs)\n",
    "\n",
    "# print 'Start training process...'\n",
    "# model.train(docs, total_examples=model.corpus_count, epochs=model.iter)"
   ]
  },
  {
   "cell_type": "code",
   "execution_count": 14,
   "metadata": {},
   "outputs": [],
   "source": [
    "# def load_weModel(model, query, doc):\n",
    "#     if model == 'glove':\n",
    "#         glove_model = gensim.models.KeyedVectors.load(\"./glovemodel.mod\")\n",
    "#         print(\"Loaded glove model\")\n",
    "#     elif model == 'w2vec':\n",
    "#         v2w_model = gensim.models.KeyedVectors.load(\"./w2vecmodel.mod\")\n",
    "#         print(\"Loaded w2v model\")\n",
    "#     elif model == 'fasttext':\n",
    "#         fasttext_model300 = gensim.models.KeyedVectors.load(\"./fasttext_model300.mod\")\n",
    "#         print(\"Loaded fasttext_model300\")\n",
    "#     else:\n",
    "#         print(\"Model not found\")\n",
    "        \n",
    "# load_weModel('asdf')"
   ]
  },
  {
   "cell_type": "code",
   "execution_count": null,
   "metadata": {},
   "outputs": [],
   "source": [
    "     "
   ]
  }
 ],
 "metadata": {
  "kernelspec": {
   "display_name": "Python 3",
   "language": "python",
   "name": "python3"
  },
  "language_info": {
   "codemirror_mode": {
    "name": "ipython",
    "version": 3
   },
   "file_extension": ".py",
   "mimetype": "text/x-python",
   "name": "python",
   "nbconvert_exporter": "python",
   "pygments_lexer": "ipython3",
   "version": "3.7.6"
  }
 },
 "nbformat": 4,
 "nbformat_minor": 4
}
