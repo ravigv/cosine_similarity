{
 "cells": [
  {
   "cell_type": "code",
   "execution_count": 1,
   "metadata": {},
   "outputs": [
    {
     "name": "stderr",
     "output_type": "stream",
     "text": [
      "[nltk_data] Downloading package wordnet to\n",
      "[nltk_data]     C:\\Users\\Ravi\\AppData\\Roaming\\nltk_data...\n",
      "[nltk_data]   Package wordnet is already up-to-date!\n",
      "[nltk_data] Downloading package stopwords to\n",
      "[nltk_data]     C:\\Users\\Ravi\\AppData\\Roaming\\nltk_data...\n",
      "[nltk_data]   Package stopwords is already up-to-date!\n",
      "[nltk_data] Downloading package punkt to\n",
      "[nltk_data]     C:\\Users\\Ravi\\AppData\\Roaming\\nltk_data...\n",
      "[nltk_data]   Package punkt is already up-to-date!\n"
     ]
    }
   ],
   "source": [
    "import os\n",
    "import re\n",
    "\n",
    "import nltk\n",
    "\n",
    "# download the stopwords and wordnet corpus\n",
    "nltk.download('wordnet')\n",
    "nltk.download('stopwords')\n",
    "nltk.download('punkt')\n",
    "\n",
    "from nltk.corpus import stopwords\n",
    "stopword = stopwords.words('english')\n",
    "from nltk.tokenize import word_tokenize\n",
    "from nltk.stem import WordNetLemmatizer\n",
    "\n",
    "\n",
    "import gensim\n",
    "from gensim.models import KeyedVectors\n",
    "from gensim.utils import simple_preprocess   \n"
   ]
  },
  {
   "cell_type": "code",
   "execution_count": 2,
   "metadata": {},
   "outputs": [
    {
     "name": "stdout",
     "output_type": "stream",
     "text": [
      "Before chdir: C:\\Users\\Ravi\n",
      "After chdir: F:\\cosinesim\n"
     ]
    },
    {
     "data": {
      "text/plain": [
       "['A TUTORIAL ON DISTANCE METRIC LEARNING.pdf',\n",
       " 'cosine similarity-Copy2.ipynb',\n",
       " 'Cosine_Similarity_with_Glove.ipynb',\n",
       " 'embeddings.xlsx',\n",
       " 'fasttext_model300.mod',\n",
       " 'fasttext_model300.mod.vectors.npy',\n",
       " 'glovemodel.mod',\n",
       " 'glovemodel.mod.vectors.npy',\n",
       " 'Semantic-Similarity-of-Sentences-master.zip',\n",
       " 'text_similarity_solution .ipynb',\n",
       " 'w2vecmodel.mod',\n",
       " 'w2vecmodel.mod.vectors.npy']"
      ]
     },
     "execution_count": 2,
     "metadata": {},
     "output_type": "execute_result"
    }
   ],
   "source": [
    "# change working directory\n",
    "import os\n",
    "print('Before chdir:', os.getcwd())\n",
    "\n",
    "os.chdir('F:\\\\cosinesim\\\\') \n",
    "         \n",
    "print('After chdir:', os.getcwd())\n",
    "\n",
    "os.listdir()"
   ]
  },
  {
   "cell_type": "code",
   "execution_count": 3,
   "metadata": {},
   "outputs": [
    {
     "name": "stdout",
     "output_type": "stream",
     "text": [
      "Wall time: 0 ns\n"
     ]
    }
   ],
   "source": [
    "%%time\n",
    "# Preprocessing \n",
    "def tokenize(text):\n",
    "    \n",
    "    # use library re to replace urls by token - urlplaceholder\n",
    "#     text = re.sub(url_regex, 'urlplaceholder', text)\n",
    "    \n",
    "    # use library re to replace non ascii characters by a space\n",
    "#     text = re.sub(non_ascii_regex, ' ', text)\n",
    "\n",
    "    # use word_tokenize to tokenize the sentences\n",
    "    tokens = word_tokenize(text)\n",
    "    \n",
    "    # instantiate an object of class WordNetLemmatizer\n",
    "    lemmatizer = WordNetLemmatizer()\n",
    "\n",
    "    # use a list comprehension to lemmatize the tokens and remove the the stopwords\n",
    "    clean_tokens = [lemmatizer.lemmatize(word) for word in tokens if word not in stopword]\n",
    "\n",
    "    # return the tokens\n",
    "    return clean_tokens"
   ]
  },
  {
   "cell_type": "code",
   "execution_count": 4,
   "metadata": {},
   "outputs": [
    {
     "name": "stdout",
     "output_type": "stream",
     "text": [
      "Wall time: 0 ns\n"
     ]
    }
   ],
   "source": [
    "%%time\n",
    "# data - sentences\n",
    "query = \"apple is fruit\"\n",
    "doc = \"apple is phone\""
   ]
  },
  {
   "cell_type": "code",
   "execution_count": 5,
   "metadata": {},
   "outputs": [
    {
     "name": "stdout",
     "output_type": "stream",
     "text": [
      "query tokens ['apple', 'fruit']\n",
      "doc tokens ['apple', 'phone']\n",
      "Wall time: 2.84 s\n"
     ]
    }
   ],
   "source": [
    "%%time\n",
    "import re\n",
    "query_tokens = tokenize(query)\n",
    "print(\"query tokens\", query_tokens)\n",
    "\n",
    "doc_tokens = tokenize(doc)\n",
    "print(\"doc tokens\", doc_tokens)"
   ]
  },
  {
   "cell_type": "code",
   "execution_count": 6,
   "metadata": {},
   "outputs": [
    {
     "name": "stdout",
     "output_type": "stream",
     "text": [
      "Wall time: 4.02 s\n"
     ]
    },
    {
     "data": {
      "text/plain": [
       "2.9931454658508296"
      ]
     },
     "execution_count": 6,
     "metadata": {},
     "output_type": "execute_result"
    }
   ],
   "source": [
    "%%time\n",
    "# caluclate distance - glove\n",
    "import gensim\n",
    "glove_model = gensim.models.KeyedVectors.load(\"./glovemodel.mod\")\n",
    "glove_model.wmdistance(query_tokens, doc_tokens)"
   ]
  },
  {
   "cell_type": "code",
   "execution_count": 7,
   "metadata": {},
   "outputs": [
    {
     "name": "stdout",
     "output_type": "stream",
     "text": [
      "Wall time: 2.83 s\n"
     ]
    },
    {
     "data": {
      "text/plain": [
       "0.7795816"
      ]
     },
     "execution_count": 7,
     "metadata": {},
     "output_type": "execute_result"
    }
   ],
   "source": [
    "%%time\n",
    "# caluclate similarity - glove\n",
    "import gensim\n",
    "glove_model = gensim.models.KeyedVectors.load(\"./glovemodel.mod\")\n",
    "glove_model.n_similarity(query_tokens, doc_tokens)"
   ]
  },
  {
   "cell_type": "code",
   "execution_count": 8,
   "metadata": {},
   "outputs": [
    {
     "name": "stdout",
     "output_type": "stream",
     "text": [
      "Wall time: 1min 36s\n"
     ]
    },
    {
     "data": {
      "text/plain": [
       "0.7117652"
      ]
     },
     "execution_count": 8,
     "metadata": {},
     "output_type": "execute_result"
    }
   ],
   "source": [
    "%%time\n",
    "# caluclate similarity - w2vec\n",
    "import gensim\n",
    "v2w_model = gensim.models.KeyedVectors.load(\"./w2vecmodel.mod\")\n",
    "v2w_model.n_similarity(query_tokens, doc_tokens)"
   ]
  },
  {
   "cell_type": "code",
   "execution_count": 9,
   "metadata": {},
   "outputs": [
    {
     "name": "stdout",
     "output_type": "stream",
     "text": [
      "Wall time: 1min 54s\n"
     ]
    },
    {
     "data": {
      "text/plain": [
       "0.7750639"
      ]
     },
     "execution_count": 9,
     "metadata": {},
     "output_type": "execute_result"
    }
   ],
   "source": [
    "%%time\n",
    "# caluclate similarity - fasttext\n",
    "import gensim\n",
    "fasttext_model300 = gensim.models.KeyedVectors.load(\"./fasttext_model300.mod\")\n",
    "fasttext_model300.n_similarity(query_tokens, doc_tokens)"
   ]
  },
  {
   "cell_type": "code",
   "execution_count": 10,
   "metadata": {},
   "outputs": [
    {
     "name": "stdout",
     "output_type": "stream",
     "text": [
      "0.9596676\n",
      "Wall time: 21.7 s\n",
      "Compiler : 211 ms\n",
      "Parser   : 620 ms\n"
     ]
    }
   ],
   "source": [
    "%%time\n",
    "# from gensim.models import KeyedVectors\n",
    "# from gensim.utils import simple_preprocess    \n",
    "\n",
    "def tidy_sentence(sentence, vocabulary):\n",
    "    return [word for word in simple_preprocess(sentence) if word in vocabulary]    \n",
    "\n",
    "def compute_sentence_similarity(sentence_1, sentence_2, model_wv):\n",
    "    vocabulary = set(model_wv.index2word)    \n",
    "    tokens_1 = tidy_sentence(sentence_1, vocabulary)    \n",
    "    tokens_2 = tidy_sentence(sentence_2, vocabulary)    \n",
    "    return model_wv.n_similarity(tokens_1, tokens_2)\n",
    "\n",
    "# wv = KeyedVectors.load('model.wv', mmap='r')\n",
    "sim = compute_sentence_similarity('this is a sentence', 'this is also a sentence', v2w_model)\n",
    "print(sim)"
   ]
  },
  {
   "cell_type": "code",
   "execution_count": 11,
   "metadata": {},
   "outputs": [
    {
     "name": "stdout",
     "output_type": "stream",
     "text": [
      "0.7750639\n",
      "Wall time: 1min 44s\n",
      "Parser   : 258 ms\n"
     ]
    }
   ],
   "source": [
    "%%time\n",
    "import gensim\n",
    "from gensim.models import KeyedVectors\n",
    "from gensim.utils import simple_preprocess   \n",
    "\n",
    "def get_sentence_similarity(sentence_1, sentence_2, model_wv):\n",
    "    tokens_1 = tokenize(sentence_1)    \n",
    "    tokens_2 = tokenize(sentence_2)    \n",
    "    return model_wv.n_similarity(tokens_1, tokens_2)\n",
    "\n",
    "fasttext_model300 = gensim.models.KeyedVectors.load(\"./fasttext_model300.mod\")\n",
    "sim = get_sentence_similarity('apple is fruit', 'apple is phone', fasttext_model300)\n",
    "print(sim)"
   ]
  },
  {
   "cell_type": "code",
   "execution_count": 12,
   "metadata": {},
   "outputs": [
    {
     "name": "stdout",
     "output_type": "stream",
     "text": [
      "0.7795816\n",
      "Wall time: 51.9 s\n",
      "Compiler : 538 ms\n",
      "Parser   : 481 ms\n"
     ]
    }
   ],
   "source": [
    "%%time\n",
    "import gensim\n",
    "from gensim.models import KeyedVectors\n",
    "  \n",
    "def get_sentence_similarity(sentence_1, sentence_2, model_wv):\n",
    "    tokens_1 = tokenize(sentence_1)    \n",
    "    tokens_2 = tokenize(sentence_2)    \n",
    "    return model_wv.n_similarity(tokens_1, tokens_2)\n",
    "\n",
    "glove_model = gensim.models.KeyedVectors.load(\"./glovemodel.mod\")\n",
    "sim = get_sentence_similarity('apple is fruit', 'apple is phone', glove_model)\n",
    "print(sim)"
   ]
  },
  {
   "cell_type": "code",
   "execution_count": 15,
   "metadata": {},
   "outputs": [
    {
     "name": "stdout",
     "output_type": "stream",
     "text": [
      "0.7795816\n",
      "Wall time: 12min 14s\n"
     ]
    }
   ],
   "source": [
    "%%time\n",
    "import gensim\n",
    "from gensim.models import KeyedVectors\n",
    "\n",
    "def get_sentence_similarity(sentence_1, sentence_2, model_wv):\n",
    "    tokens_1 = tokenize(sentence_1)    \n",
    "    tokens_2 = tokenize(sentence_2)    \n",
    "    return model_wv.n_similarity(tokens_1, tokens_2)\n",
    "\n",
    "\n",
    "v2w_model = gensim.models.KeyedVectors.load(\"./w2vecmodel.mod\")\n",
    "sim = get_sentence_similarity('apple is fruit', 'apple is phone', glove_model)\n",
    "print(sim)"
   ]
  },
  {
   "cell_type": "code",
   "execution_count": null,
   "metadata": {},
   "outputs": [],
   "source": []
  },
  {
   "cell_type": "code",
   "execution_count": null,
   "metadata": {},
   "outputs": [],
   "source": []
  },
  {
   "cell_type": "code",
   "execution_count": null,
   "metadata": {},
   "outputs": [],
   "source": []
  },
  {
   "cell_type": "code",
   "execution_count": null,
   "metadata": {},
   "outputs": [],
   "source": []
  },
  {
   "cell_type": "code",
   "execution_count": null,
   "metadata": {},
   "outputs": [],
   "source": []
  },
  {
   "cell_type": "code",
   "execution_count": null,
   "metadata": {},
   "outputs": [],
   "source": []
  },
  {
   "cell_type": "code",
   "execution_count": null,
   "metadata": {},
   "outputs": [],
   "source": []
  },
  {
   "cell_type": "code",
   "execution_count": null,
   "metadata": {},
   "outputs": [],
   "source": []
  },
  {
   "cell_type": "code",
   "execution_count": null,
   "metadata": {},
   "outputs": [],
   "source": []
  },
  {
   "cell_type": "code",
   "execution_count": null,
   "metadata": {},
   "outputs": [],
   "source": []
  },
  {
   "cell_type": "code",
   "execution_count": null,
   "metadata": {},
   "outputs": [],
   "source": []
  },
  {
   "cell_type": "code",
   "execution_count": null,
   "metadata": {},
   "outputs": [],
   "source": []
  },
  {
   "cell_type": "code",
   "execution_count": 14,
   "metadata": {},
   "outputs": [],
   "source": [
    "# def load_weModel(model, query, doc):\n",
    "#     if model == 'glove':\n",
    "#         glove_model = gensim.models.KeyedVectors.load(\"./glovemodel.mod\")\n",
    "#         print(\"Loaded glove model\")\n",
    "#     elif model == 'w2vec':\n",
    "#         v2w_model = gensim.models.KeyedVectors.load(\"./w2vecmodel.mod\")\n",
    "#         print(\"Loaded w2v model\")\n",
    "#     elif model == 'fasttext':\n",
    "#         fasttext_model300 = gensim.models.KeyedVectors.load(\"./fasttext_model300.mod\")\n",
    "#         print(\"Loaded fasttext_model300\")\n",
    "#     else:\n",
    "#         print(\"Model not found\")\n",
    "        \n",
    "# load_weModel('asdf')"
   ]
  },
  {
   "cell_type": "code",
   "execution_count": null,
   "metadata": {},
   "outputs": [],
   "source": [
    "     "
   ]
  }
 ],
 "metadata": {
  "kernelspec": {
   "display_name": "Python 3",
   "language": "python",
   "name": "python3"
  },
  "language_info": {
   "codemirror_mode": {
    "name": "ipython",
    "version": 3
   },
   "file_extension": ".py",
   "mimetype": "text/x-python",
   "name": "python",
   "nbconvert_exporter": "python",
   "pygments_lexer": "ipython3",
   "version": "3.8.5"
  }
 },
 "nbformat": 4,
 "nbformat_minor": 4
}
