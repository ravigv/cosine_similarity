{
 "cells": [
  {
   "cell_type": "code",
   "execution_count": 1,
   "metadata": {},
   "outputs": [
    {
     "name": "stdout",
     "output_type": "stream",
     "text": [
      "Wall time: 7.86 s\n"
     ]
    }
   ],
   "source": [
    "%%time\n",
    "import os\n",
    "import pandas as pd\n",
    "import numpy as np"
   ]
  },
  {
   "cell_type": "code",
   "execution_count": 2,
   "metadata": {},
   "outputs": [
    {
     "name": "stdout",
     "output_type": "stream",
     "text": [
      "C:\\Users\\ravigv\n",
      "C:\\Users\\ravigv\\Documents\\cosine_sim\n",
      "Wall time: 0 ns\n"
     ]
    }
   ],
   "source": [
    "%%time\n",
    "\n",
    "# Get working directory\n",
    "print(os.getcwd())\n",
    "\n",
    "# Set working directory\n",
    "\n",
    "os.chdir('C:\\\\Users\\\\ravigv\\\\Documents\\\\cosine_sim') \n",
    "print(os.getcwd())"
   ]
  },
  {
   "cell_type": "code",
   "execution_count": 3,
   "metadata": {},
   "outputs": [
    {
     "name": "stdout",
     "output_type": "stream",
     "text": [
      "Wall time: 388 ms\n"
     ]
    },
    {
     "data": {
      "text/html": [
       "<div>\n",
       "<style scoped>\n",
       "    .dataframe tbody tr th:only-of-type {\n",
       "        vertical-align: middle;\n",
       "    }\n",
       "\n",
       "    .dataframe tbody tr th {\n",
       "        vertical-align: top;\n",
       "    }\n",
       "\n",
       "    .dataframe thead th {\n",
       "        text-align: right;\n",
       "    }\n",
       "</style>\n",
       "<table border=\"1\" class=\"dataframe\">\n",
       "  <thead>\n",
       "    <tr style=\"text-align: right;\">\n",
       "      <th></th>\n",
       "      <th>Prob_statement</th>\n",
       "      <th>First_Why</th>\n",
       "    </tr>\n",
       "  </thead>\n",
       "  <tbody>\n",
       "    <tr>\n",
       "      <th>0</th>\n",
       "      <td>A la carte users have reported that they are i...</td>\n",
       "      <td>Why users are seeing a schedule error when try...</td>\n",
       "    </tr>\n",
       "    <tr>\n",
       "      <th>1</th>\n",
       "      <td>PGE~ABAP : ABAP System not available</td>\n",
       "      <td>Why ABAP System not available?</td>\n",
       "    </tr>\n",
       "    <tr>\n",
       "      <th>2</th>\n",
       "      <td>PGE-CI &amp; PGE-App. inaccessible from SAP-GUI ?</td>\n",
       "      <td>Why were PGE-CI &amp; PGE-App. inaccessible from S...</td>\n",
       "    </tr>\n",
       "    <tr>\n",
       "      <th>3</th>\n",
       "      <td>Effort involved in manual validation is consid...</td>\n",
       "      <td>Why is the considerable effort involved in man...</td>\n",
       "    </tr>\n",
       "    <tr>\n",
       "      <th>4</th>\n",
       "      <td>User unable to pack coil (HU)</td>\n",
       "      <td>Why the pack was open</td>\n",
       "    </tr>\n",
       "  </tbody>\n",
       "</table>\n",
       "</div>"
      ],
      "text/plain": [
       "                                      Prob_statement  \\\n",
       "0  A la carte users have reported that they are i...   \n",
       "1               PGE~ABAP : ABAP System not available   \n",
       "2      PGE-CI & PGE-App. inaccessible from SAP-GUI ?   \n",
       "3  Effort involved in manual validation is consid...   \n",
       "4                      User unable to pack coil (HU)   \n",
       "\n",
       "                                           First_Why  \n",
       "0  Why users are seeing a schedule error when try...  \n",
       "1                     Why ABAP System not available?  \n",
       "2  Why were PGE-CI & PGE-App. inaccessible from S...  \n",
       "3  Why is the considerable effort involved in man...  \n",
       "4                              Why the pack was open  "
      ]
     },
     "execution_count": 3,
     "metadata": {},
     "output_type": "execute_result"
    }
   ],
   "source": [
    "%%time\n",
    "df = pd.read_excel('5whyQA1.xlsx')\n",
    "\n",
    "df.head()"
   ]
  },
  {
   "cell_type": "code",
   "execution_count": 5,
   "metadata": {},
   "outputs": [
    {
     "name": "stdout",
     "output_type": "stream",
     "text": [
      "Wall time: 0 ns\n"
     ]
    }
   ],
   "source": [
    "%%time\n",
    "# Preprocessing\n",
    "\n",
    "import re\n",
    "import gensim \n",
    "from gensim.parsing.preprocessing import remove_stopwords\n",
    "\n",
    "#from nltk.stem.lancaster import LancasterStemmer\n",
    "#st = LancasterStemmer()\n",
    "\n",
    "def clean_sentence(sentence, stopwords=False):\n",
    "    \n",
    "    sentence = sentence.lower().strip()\n",
    "    sentence = re.sub(r'[^a-z0-9\\s]', '', sentence)\n",
    "    #sentence = re.sub(r'\\s{2,}', ' ', sentence)\n",
    "     # remove words containing numbers\n",
    "    sentence = re.sub('\\w*\\d\\w*', '', sentence)\n",
    "    # remove numbers \n",
    "    sentence = re.sub(r'[0-9]+','',sentence)\n",
    "    \n",
    "    if stopwords:\n",
    "         sentence = remove_stopwords(sentence)\n",
    "        \n",
    "    return sentence"
   ]
  },
  {
   "cell_type": "code",
   "execution_count": 6,
   "metadata": {},
   "outputs": [
    {
     "name": "stdout",
     "output_type": "stream",
     "text": [
      "['la carte users reported intermittently getting recommender error trying offers', 'pgeabap abap available', 'pgeci pgeapp inaccessible sapgui', 'effort involved manual validation considerable', 'user unable pack coil hu', 'users able post goods movement', 'new user id added approver', 'change order merge validation failing holding promotion', 'edi file translation failure', 'planning book unavailable business users', 'opsheet communicating fastpass controllers', 'differences fi spl ledger', 'chemistry characteristics updated kingston batch', 'users able access lilo ui', 'able maintain datadeal grouping ipm', 'mediamarket spain invoic idocs got failed', 'users getting service available error accessing mle', 'business users able create sales order delivery billing documents', 'note implementation', 'production order scheduled', 'scanner gun showing blank screen wrong vendor batch number scanned', 'transactions flowing mis transactions stuck queue', 'settle issue', 'production orders available mis order scheduled', 'records processing happening daily msk plant', 'offers coming sbc', 'drc able book tickets', 'drc cast experiencing slowness', 'sbc users getting offers intermittently', 'unable sell tickets lilo ui', 'admin d e shares went missing', 'opsheet updating fastpass wait times wdw dlr parks', 'user schedules recurring monthly template generate recurring order templates generating order occasionally impacting business', 'recurring monthly templates generating scheduled orders relative type', 'reconciliation report getting exported excel', 'uable access sap pge', 'work item remain open', 'goods movement post', 'records processing happening daily msk plant', 'inconsistency ecc apo', 'scanner gun showing blank screen', 'production orders available mis order scheduled', 'chemistry characteristics updated kingston batch', 'user unable pack coil hu', 'transactions flowing mis', 'batch job failure', 'permission ers prod file shared path got revoked', 'trailer playback issue', 'website', 'application accessible', 'card access', 'application recording calls', 'application recording calls', 'cash register', 'audit failure analysis ztoc pick files available']\n",
      "\n",
      "\n",
      "['a la carte users have reported that they are intermittently getting a recommender error when trying to get offers', 'pgeabap  abap system not available', 'pgeci  pgeapp inaccessible from sapgui ', 'effort involved in manual validation is considerable', 'user unable to pack coil hu', 'users are not able to post goods movement', 'new user id has to be added as approver', 'change order merge validation failing holding further co promotion', 'edi file translation failure', 'planning book unavailable to the business users', 'opsheet not communicating with fastpass controllers', 'there are differences between fi and spl ledger', 'chemistry characteristics not updated in kingston batch', 'users not able to access lilo ui', 'not able to maintain datadeal grouping in ipm', 'mediamarket spain invoic idocs got failed', 'users getting  service not available error while accessing mle', 'business users are not able to create sales order delivery and billing documents', 'note   implementation', 'production order cannot be scheduled', 'scanner gun was showing blank screen since there was wrong vendor batch number being scanned', 'the transactions were not flowing to mis and there were many transactions stuck in queue', ' settle issue', 'production orders not available in mis system and order cannot be scheduled', 'the records were not processing as \\nit was happening daily for msk plant', 'offers are not coming in sbc', 'drc is not able to book the tickets', 'drc cast are experiencing slowness', 'sbc users were getting offers intermittently', 'unable to sell tickets from lilo ui', '  admin d and e shares went missing on ', 'opsheet was not updating the fastpass wait times for all wdw and dlr parks ', 'when user schedules a recurring monthly template to generate recurring order some of the templates are not generating order occasionally and this is impacting the business', 'recurring monthly templates are not generating scheduled orders for relative type', 'reconciliation report not getting exported to excel', 'uable to access sap pge system', 'work item remain open', 'goods movement could not post', 'the records were not processing as \\nit was happening daily for msk plant', 'inconsistency between ecc and apo', 'scanner gun was showing blank screen', 'production orders not available in mis system and order cannot be scheduled', 'chemistry characteristics not updated in kingston batch', 'user unable to pack coil hu', 'the transactions were not flowing to mis', 'batch job failure', 'permission to the ers prod file shared path got revoked', 'trailer playback issue', 'website is down', 'application not accessible', 'card access system down', 'application not recording calls', 'application not recording calls', 'cash register system down', 'for audit  failure analysis  ztoc pick up files are not available']\n",
      "Wall time: 13 ms\n"
     ]
    }
   ],
   "source": [
    "%%time\n",
    "def get_cleaned_sentences1(df, col, stopwords=False):\n",
    "    \n",
    "    cleaned_sentences=[]\n",
    "    \n",
    "    for index,row in df.iterrows():\n",
    "#         print(index,row[col])\n",
    "        cleaned=clean_sentence(row[col],stopwords);\n",
    "        cleaned_sentences.append(cleaned);\n",
    "    return cleaned_sentences;\n",
    "        \n",
    "\n",
    "        \n",
    "# Calling the function get_cleaned_sentences\n",
    "\n",
    "# Case1: Without stopwords\n",
    "cleaned_sentences=get_cleaned_sentences1(df, 'Prob_statement', stopwords=True)\n",
    "print(cleaned_sentences);\n",
    "\n",
    "print(\"\\n\")\n",
    "\n",
    "# Case2: With stopwords\n",
    "cleaned_sentences_with_stopwords=get_cleaned_sentences1(df, 'Prob_statement', stopwords=False)\n",
    "print(cleaned_sentences_with_stopwords);"
   ]
  },
  {
   "cell_type": "code",
   "execution_count": 9,
   "metadata": {},
   "outputs": [
    {
     "name": "stdout",
     "output_type": "stream",
     "text": [
      "Wall time: 0 ns\n"
     ]
    }
   ],
   "source": [
    "%%time\n",
    "\n",
    "# tokenize\n",
    "sentences=cleaned_sentences\n",
    "#sentences=cleaned_sentences\n",
    "\n",
    "# Split it by white space \n",
    "tokens = [[word for word in document.split() ]\n",
    "         for document in sentences]\n",
    "\n",
    "# tokens"
   ]
  },
  {
   "cell_type": "markdown",
   "metadata": {},
   "source": [
    "#### Creating Gensim custom word2vec model"
   ]
  },
  {
   "cell_type": "code",
   "execution_count": 11,
   "metadata": {},
   "outputs": [],
   "source": [
    "# ''' The parameters:\n",
    "# min_count = int - Ignores all words with total absolute frequency lower than this - (2, 100)\n",
    "# window = int - The maximum distance between the current and predicted word within a sentence. \n",
    "#          E.g. window words on the left and window words on the left of our target - (2, 10)\n",
    "# size = int - Dimensionality of the feature vectors. - (50, 300)\n",
    "# sample = float - The threshold for configuring which higher-frequency words are randomly downsampled.Highly influencial. - (0, 1e-5)    \n",
    "# alpha = float - The initial learning rate - (0.01, 0.05)\n",
    "# min_alpha = float - Learning rate will linearly drop to min_alpha as training progresses. To set it: alpha - (min_alpha * epochs) ~ 0.00\n",
    "# negative = int - If > 0, negative sampling will be used, the int for negative specifies how many \"noise words\" should be drown. If set to 0, no negative sampling is used. - (5, 20)\n",
    "# workers = int - Use these many worker threads to train the model (=faster training with multicore machines)'''\n"
   ]
  },
  {
   "cell_type": "code",
   "execution_count": 12,
   "metadata": {},
   "outputs": [
    {
     "name": "stdout",
     "output_type": "stream",
     "text": [
      "Wall time: 0 ns\n"
     ]
    }
   ],
   "source": [
    "%%time\n",
    "# Step1: set up the parameters with word2vec\n",
    "\n",
    "import multiprocessing\n",
    "from gensim.models import Word2Vec\n",
    "\n",
    "\n",
    "# Count the number of cores in a computer\n",
    "cores = multiprocessing.cpu_count() \n",
    "\n",
    "# Call\n",
    "w2v_model = Word2Vec(min_count=5,\n",
    "                     window=2,\n",
    "                     size=300,\n",
    "                     sample=6e-5, \n",
    "                     alpha=0.03, \n",
    "                     min_alpha=0.0007, \n",
    "                     negative=20,\n",
    "                     workers=cores-1)"
   ]
  },
  {
   "cell_type": "code",
   "execution_count": 13,
   "metadata": {},
   "outputs": [
    {
     "name": "stdout",
     "output_type": "stream",
     "text": [
      "Wall time: 72 ms\n"
     ]
    }
   ],
   "source": [
    "%%time\n",
    "\n",
    "# Step2: Building the Vocabulary \n",
    "\n",
    "w2v_model.build_vocab(tokens)"
   ]
  },
  {
   "cell_type": "code",
   "execution_count": 14,
   "metadata": {},
   "outputs": [
    {
     "name": "stdout",
     "output_type": "stream",
     "text": [
      "Wall time: 399 ms\n"
     ]
    },
    {
     "data": {
      "text/plain": [
       "(10, 8190)"
      ]
     },
     "execution_count": 14,
     "metadata": {},
     "output_type": "execute_result"
    }
   ],
   "source": [
    "%%time\n",
    "\n",
    "# Step3:Training of the model:\n",
    "# Parameters of the training:\n",
    "\n",
    "# total_examples = int - Count of sentences;\n",
    "# epochs = int - Number of iterations (epochs) over the corpus - [10, 20, 30]\n",
    "\n",
    "w2v_model.train(tokens, total_examples=w2v_model.corpus_count, epochs=30)"
   ]
  },
  {
   "cell_type": "code",
   "execution_count": 21,
   "metadata": {},
   "outputs": [
    {
     "name": "stdout",
     "output_type": "stream",
     "text": [
      "Wall time: 7.95 ms\n"
     ]
    }
   ],
   "source": [
    "%%time\n",
    "# save word2vec model\n",
    "w2v_model.save(\"word2vec_ps.model\")\n",
    "\n",
    "# Save WV\n",
    "w2v_model.wv.save_word2vec_format(\"word2vec_ps_model.txt\")\n"
   ]
  },
  {
   "cell_type": "code",
   "execution_count": 17,
   "metadata": {},
   "outputs": [
    {
     "name": "stdout",
     "output_type": "stream",
     "text": [
      "la carte users reported intermittently getting recommender error trying offers\n",
      "[(0, 1), (1, 1), (2, 1), (3, 1), (4, 1), (5, 1), (6, 1), (7, 1), (8, 1), (9, 1)]\n",
      "pgeabap abap available\n",
      "[(10, 1), (11, 1), (12, 1)]\n",
      "pgeci pgeapp inaccessible sapgui\n",
      "[(13, 1), (14, 1), (15, 1), (16, 1)]\n",
      "effort involved manual validation considerable\n",
      "[(17, 1), (18, 1), (19, 1), (20, 1), (21, 1)]\n",
      "user unable pack coil hu\n",
      "[(22, 1), (23, 1), (24, 1), (25, 1), (26, 1)]\n",
      "users able post goods movement\n",
      "[(9, 1), (27, 1), (28, 1), (29, 1), (30, 1)]\n",
      "new user id added approver\n",
      "[(26, 1), (31, 1), (32, 1), (33, 1), (34, 1)]\n",
      "change order merge validation failing holding promotion\n",
      "[(21, 1), (35, 1), (36, 1), (37, 1), (38, 1), (39, 1), (40, 1)]\n",
      "edi file translation failure\n",
      "[(41, 1), (42, 1), (43, 1), (44, 1)]\n",
      "planning book unavailable business users\n",
      "[(9, 1), (45, 1), (46, 1), (47, 1), (48, 1)]\n",
      "opsheet communicating fastpass controllers\n",
      "[(49, 1), (50, 1), (51, 1), (52, 1)]\n",
      "differences fi spl ledger\n",
      "[(53, 1), (54, 1), (55, 1), (56, 1)]\n",
      "chemistry characteristics updated kingston batch\n",
      "[(57, 1), (58, 1), (59, 1), (60, 1), (61, 1)]\n",
      "users able access lilo ui\n",
      "[(9, 1), (27, 1), (62, 1), (63, 1), (64, 1)]\n",
      "able maintain datadeal grouping ipm\n",
      "[(27, 1), (65, 1), (66, 1), (67, 1), (68, 1)]\n",
      "mediamarket spain invoic idocs got failed\n",
      "[(69, 1), (70, 1), (71, 1), (72, 1), (73, 1), (74, 1)]\n",
      "users getting service available error accessing mle\n",
      "[(1, 1), (2, 1), (9, 1), (11, 1), (75, 1), (76, 1), (77, 1)]\n",
      "business users able create sales order delivery billing documents\n",
      "[(9, 1), (27, 1), (39, 1), (46, 1), (78, 1), (79, 1), (80, 1), (81, 1), (82, 1)]\n",
      "note implementation\n",
      "[(83, 1), (84, 1)]\n",
      "production order scheduled\n",
      "[(39, 1), (85, 1), (86, 1)]\n",
      "scanner gun showing blank screen wrong vendor batch number scanned\n",
      "[(57, 1), (87, 1), (88, 1), (89, 1), (90, 1), (91, 1), (92, 1), (93, 1), (94, 1), (95, 1)]\n",
      "transactions flowing mis transactions stuck queue\n",
      "[(96, 1), (97, 1), (98, 1), (99, 1), (100, 2)]\n",
      "settle issue\n",
      "[(101, 1), (102, 1)]\n",
      "production orders available mis order scheduled\n",
      "[(11, 1), (39, 1), (85, 1), (86, 1), (97, 1), (103, 1)]\n",
      "records processing happening daily msk plant\n",
      "[(104, 1), (105, 1), (106, 1), (107, 1), (108, 1), (109, 1)]\n",
      "offers coming sbc\n",
      "[(5, 1), (110, 1), (111, 1)]\n",
      "drc able book tickets\n",
      "[(27, 1), (45, 1), (112, 1), (113, 1)]\n",
      "drc cast experiencing slowness\n",
      "[(112, 1), (114, 1), (115, 1), (116, 1)]\n",
      "sbc users getting offers intermittently\n",
      "[(2, 1), (3, 1), (5, 1), (9, 1), (111, 1)]\n",
      "unable sell tickets lilo ui\n",
      "[(25, 1), (63, 1), (64, 1), (113, 1), (117, 1)]\n",
      "admin d e shares went missing\n",
      "[(118, 1), (119, 1), (120, 1), (121, 1), (122, 1), (123, 1)]\n",
      "opsheet updating fastpass wait times wdw dlr parks\n",
      "[(51, 1), (52, 1), (124, 1), (125, 1), (126, 1), (127, 1), (128, 1), (129, 1)]\n",
      "user schedules recurring monthly template generate recurring order templates generating order occasionally impacting business\n",
      "[(26, 1), (39, 2), (46, 1), (130, 1), (131, 1), (132, 1), (133, 1), (134, 1), (135, 2), (136, 1), (137, 1), (138, 1)]\n",
      "recurring monthly templates generating scheduled orders relative type\n",
      "[(86, 1), (103, 1), (131, 1), (133, 1), (135, 1), (138, 1), (139, 1), (140, 1)]\n",
      "reconciliation report getting exported excel\n",
      "[(2, 1), (141, 1), (142, 1), (143, 1), (144, 1)]\n",
      "uable access sap pge\n",
      "[(62, 1), (145, 1), (146, 1), (147, 1)]\n",
      "work item remain open\n",
      "[(148, 1), (149, 1), (150, 1), (151, 1)]\n",
      "goods movement post\n",
      "[(28, 1), (29, 1), (30, 1)]\n",
      "records processing happening daily msk plant\n",
      "[(104, 1), (105, 1), (106, 1), (107, 1), (108, 1), (109, 1)]\n",
      "inconsistency ecc apo\n",
      "[(152, 1), (153, 1), (154, 1)]\n",
      "scanner gun showing blank screen\n",
      "[(87, 1), (88, 1), (91, 1), (92, 1), (93, 1)]\n",
      "production orders available mis order scheduled\n",
      "[(11, 1), (39, 1), (85, 1), (86, 1), (97, 1), (103, 1)]\n",
      "chemistry characteristics updated kingston batch\n",
      "[(57, 1), (58, 1), (59, 1), (60, 1), (61, 1)]\n",
      "user unable pack coil hu\n",
      "[(22, 1), (23, 1), (24, 1), (25, 1), (26, 1)]\n",
      "transactions flowing mis\n",
      "[(96, 1), (97, 1), (100, 1)]\n",
      "batch job failure\n",
      "[(42, 1), (57, 1), (155, 1)]\n",
      "permission ers prod file shared path got revoked\n",
      "[(43, 1), (70, 1), (156, 1), (157, 1), (158, 1), (159, 1), (160, 1), (161, 1)]\n",
      "trailer playback issue\n",
      "[(101, 1), (162, 1), (163, 1)]\n",
      "website\n",
      "[(164, 1)]\n",
      "application accessible\n",
      "[(165, 1), (166, 1)]\n",
      "card access\n",
      "[(62, 1), (167, 1)]\n",
      "application recording calls\n",
      "[(166, 1), (168, 1), (169, 1)]\n",
      "application recording calls\n",
      "[(166, 1), (168, 1), (169, 1)]\n",
      "cash register\n",
      "[(170, 1), (171, 1)]\n",
      "audit failure analysis ztoc pick files available\n",
      "[(11, 1), (42, 1), (172, 1), (173, 1), (174, 1), (175, 1), (176, 1)]\n",
      "Wall time: 5.98 ms\n"
     ]
    }
   ],
   "source": [
    "%%time\n",
    "\n",
    "# Create BOW\n",
    "# Create corpora\n",
    "from gensim import corpora\n",
    "dictionary = corpora.Dictionary(tokens)\n",
    "# for key, value in dictionary.items():\n",
    "#     print(key, ' : ', value)\n",
    "\n",
    "\n",
    "# Creating BOW\n",
    "\n",
    "import pprint\n",
    "bow_corpus = [dictionary.doc2bow(text) for text in tokens]\n",
    "for sent,embedding in zip(sentences,bow_corpus):\n",
    "    print(sent)\n",
    "    print(embedding)"
   ]
  },
  {
   "cell_type": "code",
   "execution_count": 18,
   "metadata": {},
   "outputs": [
    {
     "name": "stdout",
     "output_type": "stream",
     "text": [
      "\n",
      "\n",
      " la carte users reported intermittently getting recommender error trying offers \n",
      " [(0, 1), (1, 1), (2, 1), (3, 1), (4, 1), (5, 1), (6, 1), (7, 1), (8, 1), (9, 1)]\n",
      "Wall time: 1.01 ms\n"
     ]
    }
   ],
   "source": [
    "%%time\n",
    "#question_orig=\"do I need to learn algorithms to be a data scientist ?\";\n",
    "query=\"A la carte users have reported that they are intermittently getting a Recommender error when trying to get offers\"\n",
    "query=clean_sentence(query,stopwords=True);\n",
    "query_embedding = dictionary.doc2bow(query.split())\n",
    "\n",
    "\n",
    "print(\"\\n\\n\",query,\"\\n\",query_embedding)\n"
   ]
  },
  {
   "cell_type": "code",
   "execution_count": 19,
   "metadata": {},
   "outputs": [
    {
     "name": "stdout",
     "output_type": "stream",
     "text": [
      "Wall time: 1.62 s\n"
     ]
    }
   ],
   "source": [
    "%%time\n",
    "import sklearn\n",
    "from sklearn.metrics.pairwise import cosine_similarity\n",
    "\n",
    "def get_cosim(query,docs):\n",
    "      \n",
    "    count = []\n",
    "    simscore = []\n",
    "    result = []\n",
    "\n",
    "    for index,faq_embedding in enumerate(docs):\n",
    "            sim=cosine_similarity(faq_embedding,query)[0][0]\n",
    "\n",
    "            count.append(index)\n",
    "            simscore.append(sim)\n",
    "            result.append(sentences[index])\n",
    "\n",
    "\n",
    "\n",
    "    dfScore = pd.DataFrame(list(zip(count, simscore, result)),\n",
    "                  columns=['id','simscore', 'result'])\n",
    "\n",
    "\n",
    "    dfsort = dfScore.sort_values('simscore', ascending = False)\n",
    "\n",
    "\n",
    "    return dfsort\n"
   ]
  },
  {
   "cell_type": "code",
   "execution_count": 35,
   "metadata": {},
   "outputs": [
    {
     "name": "stdout",
     "output_type": "stream",
     "text": [
      "Wall time: 0 ns\n"
     ]
    }
   ],
   "source": [
    "%%time\n",
    "# Getting Phrase Embeddings from Word Embeddings\n",
    "\n",
    "def getWordVec(word,model):\n",
    "        samp=model['users']\n",
    "        vec=[0]*len(samp);\n",
    "        try:\n",
    "                vec=model[word]\n",
    "        except:\n",
    "                vec=[0]*len(samp)\n",
    "        return (vec)\n",
    "\n",
    "\n",
    "def getPhraseEmbedding(phrase,embeddingmodel):\n",
    "                       \n",
    "        samp=getWordVec('users', embeddingmodel)\n",
    "        vec=np.array([0]*len(samp));\n",
    "        den=0;\n",
    "        for word in phrase.split():\n",
    "            #print(word)\n",
    "            den=den+1;\n",
    "            vec=vec+np.array(getWordVec(word,embeddingmodel))\n",
    "        #vec=vec/den;\n",
    "        #return (vec.tolist());\n",
    "        return vec.reshape(1, -1)\n"
   ]
  },
  {
   "cell_type": "code",
   "execution_count": 29,
   "metadata": {},
   "outputs": [
    {
     "name": "stdout",
     "output_type": "stream",
     "text": [
      "Loaded word2vec_ps_model\n",
      "Wall time: 2.96 ms\n"
     ]
    }
   ],
   "source": [
    "%%time \n",
    "# Load model\n",
    "word2vec_ps_model = gensim.models.KeyedVectors.load_word2vec_format(\"./word2vec_ps_model.txt\", binary = False)\n",
    "print(\"Loaded word2vec_ps_model\")"
   ]
  },
  {
   "cell_type": "code",
   "execution_count": 36,
   "metadata": {},
   "outputs": [
    {
     "name": "stdout",
     "output_type": "stream",
     "text": [
      "Wall time: 167 ms\n"
     ]
    },
    {
     "data": {
      "text/html": [
       "<div>\n",
       "<style scoped>\n",
       "    .dataframe tbody tr th:only-of-type {\n",
       "        vertical-align: middle;\n",
       "    }\n",
       "\n",
       "    .dataframe tbody tr th {\n",
       "        vertical-align: top;\n",
       "    }\n",
       "\n",
       "    .dataframe thead th {\n",
       "        text-align: right;\n",
       "    }\n",
       "</style>\n",
       "<table border=\"1\" class=\"dataframe\">\n",
       "  <thead>\n",
       "    <tr style=\"text-align: right;\">\n",
       "      <th></th>\n",
       "      <th>id</th>\n",
       "      <th>simscore</th>\n",
       "      <th>result</th>\n",
       "    </tr>\n",
       "  </thead>\n",
       "  <tbody>\n",
       "    <tr>\n",
       "      <th>0</th>\n",
       "      <td>0</td>\n",
       "      <td>1.000000</td>\n",
       "      <td>la carte users reported intermittently getting...</td>\n",
       "    </tr>\n",
       "    <tr>\n",
       "      <th>9</th>\n",
       "      <td>9</td>\n",
       "      <td>1.000000</td>\n",
       "      <td>planning book unavailable business users</td>\n",
       "    </tr>\n",
       "    <tr>\n",
       "      <th>28</th>\n",
       "      <td>28</td>\n",
       "      <td>1.000000</td>\n",
       "      <td>sbc users getting offers intermittently</td>\n",
       "    </tr>\n",
       "    <tr>\n",
       "      <th>5</th>\n",
       "      <td>5</td>\n",
       "      <td>0.692157</td>\n",
       "      <td>users able post goods movement</td>\n",
       "    </tr>\n",
       "    <tr>\n",
       "      <th>13</th>\n",
       "      <td>13</td>\n",
       "      <td>0.692157</td>\n",
       "      <td>users able access lilo ui</td>\n",
       "    </tr>\n",
       "  </tbody>\n",
       "</table>\n",
       "</div>"
      ],
      "text/plain": [
       "    id  simscore                                             result\n",
       "0    0  1.000000  la carte users reported intermittently getting...\n",
       "9    9  1.000000           planning book unavailable business users\n",
       "28  28  1.000000            sbc users getting offers intermittently\n",
       "5    5  0.692157                     users able post goods movement\n",
       "13  13  0.692157                          users able access lilo ui"
      ]
     },
     "execution_count": 36,
     "metadata": {},
     "output_type": "execute_result"
    }
   ],
   "source": [
    "%%time\n",
    "#With w2Vec_ps model\n",
    "\n",
    "\n",
    "\n",
    "sent_embeddings=[]\n",
    "for sent in cleaned_sentences:\n",
    "    sent_embeddings.append(getPhraseEmbedding(sent,word2vec_ps_model))\n",
    "\n",
    "question_embedding=getPhraseEmbedding(query,word2vec_ps_model)\n",
    "\n",
    "get_cosim(question_embedding,sent_embeddings).head(5)"
   ]
  },
  {
   "cell_type": "code",
   "execution_count": null,
   "metadata": {},
   "outputs": [],
   "source": []
  },
  {
   "cell_type": "code",
   "execution_count": null,
   "metadata": {},
   "outputs": [],
   "source": []
  },
  {
   "cell_type": "code",
   "execution_count": null,
   "metadata": {},
   "outputs": [],
   "source": []
  },
  {
   "cell_type": "code",
   "execution_count": null,
   "metadata": {},
   "outputs": [],
   "source": []
  },
  {
   "cell_type": "code",
   "execution_count": null,
   "metadata": {},
   "outputs": [],
   "source": []
  }
 ],
 "metadata": {
  "kernelspec": {
   "display_name": "Python 3",
   "language": "python",
   "name": "python3"
  },
  "language_info": {
   "codemirror_mode": {
    "name": "ipython",
    "version": 3
   },
   "file_extension": ".py",
   "mimetype": "text/x-python",
   "name": "python",
   "nbconvert_exporter": "python",
   "pygments_lexer": "ipython3",
   "version": "3.7.6"
  }
 },
 "nbformat": 4,
 "nbformat_minor": 4
}
